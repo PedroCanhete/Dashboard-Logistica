{
 "cells": [
  {
   "cell_type": "markdown",
   "metadata": {},
   "source": [
    "### Logística Hermex\n",
    "\n",
    "- *A empresa de logística **Hermex** nos contratou para analisar os dados de entrega de seu negócio, entender suas bases de dados e exibir informações relevantes a fim de auxiliar suas tomadas de decisão.*\n",
    "\n",
    "Neste projeto, utilizaremos o **Excel** e o **powerBI** para tratar e visualizar os dados. As dashboards serão montadas com o objetivo de auxiliar e monitorar uma campanha de marketing realizada."
   ]
  },
  {
   "cell_type": "markdown",
   "metadata": {},
   "source": [
    "*Começaremos pelo **tratamento dos dados**:*\n",
    "\n",
    "Como temos 4 bases de dados com diversos tratamentos a serem feitos, vamos separá-los por partes. Além disso, visualizaremos os dados tanto por excel como powerBI, porém, o tratamento e visualização dos dados, tiradas de insights e projeto de dashboard serão feitos via powerBI.\n",
    "\n",
    "**Estoque**\n",
    "- Para a tabela de estoque são poucos ajustes, temos os cabeçalhos promovidos no powerBI, tratamento dos tipos das colunas e o ajuste dos nomes para a modelagem.\n",
    "\n",
    "**Pedidos**\n",
    "\n",
    "Pedidos já é uma tabela que necessite de mais ajustes, vamos a eles:\n",
    "- Ajuste dos cabeçalhos;\n",
    "- Tratamento dos tipos das colunas;\n",
    "- Ajuste dos nomes para a modelagem;\n",
    "- Ajuste de valores nas colunas de UF e Estado, pois estão com os dados mesclados.\n",
    "\n",
    "**Produtos**\n",
    "\n",
    "- Produtos seguirá com o mesmo padrão de tratamento de **Pedidos**, mas neste caso tiraremos também os dados vazios que vieram nesta base.\n",
    "\n",
    "\n",
    "**Veículos**\n",
    "\n",
    "- Em veículos tivemos o mesmo tratamento da base anterior.\n",
    "\n"
   ]
  },
  {
   "cell_type": "markdown",
   "metadata": {},
   "source": [
    "Após o tratamento dos dados, fizemos também a **modelagem** deles, acertando suas hierarquias e ligações."
   ]
  }
 ],
 "metadata": {
  "language_info": {
   "name": "python"
  }
 },
 "nbformat": 4,
 "nbformat_minor": 2
}

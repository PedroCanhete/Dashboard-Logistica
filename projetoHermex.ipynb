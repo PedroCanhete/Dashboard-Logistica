{
 "cells": [
  {
   "cell_type": "markdown",
   "metadata": {},
   "source": [
    "### Logística Hermex\n",
    "\n",
    "- *A empresa de logística **Hermex** nos contratou para analisar os dados de entrega de seu negócio, entender suas bases de dados e exibir informações relevantes a fim de auxiliar suas tomadas de decisão.*\n",
    "\n",
    "Neste projeto, utilizaremos o **Excel** e o **powerBI** para tratar e visualizar os dados. As dashboards serão montadas com o objetivo de auxiliar e monitorar uma campanha de marketing realizada."
   ]
  },
  {
   "cell_type": "markdown",
   "metadata": {},
   "source": [
    "*Começaremos pelo **tratamento dos dados**:*\n",
    "\n",
    "Como temos 4 bases de dados com diversos tratamentos a serem feitos, vamos separá-los por partes. Além disso, visualizaremos os dados tanto por excel como powerBI, porém, o tratamento e visualização dos dados, tiradas de insights e projeto de dashboard serão feitos via powerBI.\n",
    "\n",
    "**Estoque**\n",
    "- Para a tabela de estoque são poucos ajustes, temos os cabeçalhos promovidos no powerBI, tratamento dos tipos das colunas e o ajuste dos nomes para a modelagem.\n",
    "\n",
    "**Pedidos**\n",
    "\n",
    "Pedidos já é uma tabela que necessite de mais ajustes, vamos a eles:\n",
    "- Ajuste dos cabeçalhos;\n",
    "- Tratamento dos tipos das colunas;\n",
    "- Ajuste dos nomes para a modelagem;\n",
    "- Ajuste de valores nas colunas de UF e Estado, pois estão com os dados mesclados.\n",
    "\n",
    "**Produtos**\n",
    "\n",
    "- Produtos seguirá com o mesmo padrão de tratamento de **Pedidos**, mas neste caso tiraremos também os dados vazios que vieram nesta base.\n",
    "\n",
    "\n",
    "**Veículos**\n",
    "\n",
    "- Em veículos tivemos o mesmo tratamento da base anterior.\n",
    "\n"
   ]
  },
  {
   "cell_type": "markdown",
   "metadata": {},
   "source": [
    "Após o tratamento dos dados, fizemos também a **modelagem** deles, acertando suas hierarquias e ligações."
   ]
  },
  {
   "cell_type": "markdown",
   "metadata": {},
   "source": [
    "**Criação de medidas e primeiras análises**\n",
    "Após o ETL, partiremos para a parte analítica do projeto e tiraremos os primeiros insights.\n",
    "\n",
    "Começaremos por:\n",
    "- KPI de entregas - quantas são feitas no prazo e quantas atrasadas;\n",
    "- KPI de Ship2Door - Prazo da compra do item até a entrega na residência do cliente;\n",
    "- Quantidade de veículos disponíveis;\n",
    "- Medidas de Ship2Door;\n",
    "- Entre outras medidas ligadas à logística.\n"
   ]
  },
  {
   "cell_type": "markdown",
   "metadata": {},
   "source": [
    "Após a criação das medidas e análises feitas, partimos para a criação da Dashboard.\n",
    "\n",
    "Nele, incluímos:\n",
    "- **Quantidade de Pedidos por Região** – Exibe a distribuição geográfica das entregas, ajudando a identificar regiões com maior volume e possíveis gargalos logísticos.\n",
    "\n",
    "- **Quantidade de Fretes por Período** – Mostra a evolução dos custos de frete ao longo do tempo, permitindo identificar padrões sazonais e variações que impactam no orçamento.\n",
    "\n",
    "- **On Time Delivery (OTD)** – Indica a taxa de entregas realizadas dentro do prazo, sendo um KPI essencial para medir a eficiência operacional e propor melhorias.\n",
    "\n",
    "- **Quantidade de Entregas por Veículo** – Analisa a distribuição das entregas por tipo de veículo (carro, caminhonete, moto), fornecendo insights para otimizar a frota e reduzir custos.\n",
    "\n",
    "- **Performance de Pedidos** – Exibe o total de pedidos realizados por ano, comparando variações e identificando tendências de crescimento ou queda.\n",
    "\n",
    "- **KPI de Vendas e Média de S2D** – Apresenta o total de vendas, tempo médio de entrega (Ship2Door) e sua porcentagem de cumprimento, permitindo avaliar a qualidade do serviço e seu impacto na experiência do cliente."
   ]
  },
  {
   "cell_type": "markdown",
   "metadata": {},
   "source": [
    "Após a conclusão do design da dashboard, subimos o projeto e enviamos ao cliente."
   ]
  }
 ],
 "metadata": {
  "language_info": {
   "name": "python"
  }
 },
 "nbformat": 4,
 "nbformat_minor": 2
}
